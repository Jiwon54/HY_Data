{
 "cells": [
  {
   "cell_type": "code",
   "execution_count": 6,
   "metadata": {},
   "outputs": [
    {
     "name": "stdout",
     "output_type": "stream",
     "text": [
      "b'AkanniDarey' : b'@RuggedyBaba Man Utd fans should interfere in another team matters.....\\xf0\\x9f\\x98\\x83'\n",
      "b'Thabiso0324' : b'RT @premierleague: Leader. Legend. Goalkeeper?\\n\\nLucas Radebe gained instant cult status when he went between the sticks against Man Utd for\\xe2\\x80\\xa6'\n",
      "b'ForeverLloyd01' : b'RT @premierleague: Leader. Legend. Goalkeeper?\\n\\nLucas Radebe gained instant cult status when he went between the sticks against Man Utd for\\xe2\\x80\\xa6'\n",
      "b'percy_pauly' : b'RT @premierleague: Leader. Legend. Goalkeeper?\\n\\nLucas Radebe gained instant cult status when he went between the sticks against Man Utd for\\xe2\\x80\\xa6'\n",
      "b'kawienze' : b'RT @premierleague: Man Utd have never won a #PL title after starting season with 3\\xef\\xb8\\x8f\\xe2\\x83\\xa3 clean sheets, but there is reason for optimism: https:\\xe2\\x80\\xa6'\n",
      "b'the_laxa' : b'And to make it worse.. Man Utd not playing this weekend (source of joy) all thanks to these useless internationals.. Sigh.. What is life \\xf0\\x9f\\x98\\x9e'\n",
      "b'kgaugelo_N' : b'RT @premierleague: Leader. Legend. Goalkeeper?\\n\\nLucas Radebe gained instant cult status when he went between the sticks against Man Utd for\\xe2\\x80\\xa6'\n",
      "b'KingYormidey' : b'Man utd fans calling Pep cheque book manager is kettle calling pot black talk'\n",
      "b'cesaradelawad' : b\"RT @Squawka: ON THIS DAY: In 2004, Man Utd signed Wayne Rooney for \\xc2\\xa330m from Everton.\\n\\nThe club's all-time leading scorer with 253 goals.\\xe2\\x80\\xa6\"\n",
      "b'Nohayi' : b'RT @premierleague: Leader. Legend. Goalkeeper?\\n\\nLucas Radebe gained instant cult status when he went between the sticks against Man Utd for\\xe2\\x80\\xa6'\n",
      "b'NotSoClever45' : b'@StanCollymore What happened to the 2 marquee signing you heard man utd were going to try and do this summer ? has the levy to break first?'\n",
      "b'NhlanhlaGemini' : b'RT @premierleague: Leader. Legend. Goalkeeper?\\n\\nLucas Radebe gained instant cult status when he went between the sticks against Man Utd for\\xe2\\x80\\xa6'\n",
      "b'MatthewKillian1' : b'RT @premierleague: Leader. Legend. Goalkeeper?\\n\\nLucas Radebe gained instant cult status when he went between the sticks against Man Utd for\\xe2\\x80\\xa6'\n",
      "b'GwaanThaGod' : b'RT @premierleague: Leader. Legend. Goalkeeper?\\n\\nLucas Radebe gained instant cult status when he went between the sticks against Man Utd for\\xe2\\x80\\xa6'\n",
      "b'danieliyayi94' : b'@damildrizzy He is exceptional... \\nA pure talent... He will be a good signing for Man Utd'\n"
     ]
    }
   ],
   "source": [
    "from twython import Twython\n",
    "\n",
    "CONSUMER_KEY = \"자기꺼\"\n",
    "CONSUMER_SECRET = \"자기꺼\"\n",
    "ACCESS_TOKEN = \"자기꺼\"\n",
    "ACCESS_TOKEN_SECRET = \"자기꺼\"\n",
    "\n",
    "twitter = Twython(CONSUMER_KEY, CONSUMER_SECRET)\n",
    "\n",
    "# '''data science'''라는 키워드가 들어있는 트윗 검색\n",
    "for status in twitter.search(q='''man utd''')[\"statuses\"]:\n",
    "    user = status[\"user\"][\"screen_name\"].encode('utf-8')\n",
    "    text = status[\"text\"].encode('utf-8')\n",
    "    print(user, \":\", text)\n"
   ]
  },
  {
   "cell_type": "code",
   "execution_count": null,
   "metadata": {
    "collapsed": true
   },
   "outputs": [],
   "source": []
  }
 ],
 "metadata": {
  "kernelspec": {
   "display_name": "Python 3",
   "language": "python",
   "name": "python3"
  },
  "language_info": {
   "codemirror_mode": {
    "name": "ipython",
    "version": 3
   },
   "file_extension": ".py",
   "mimetype": "text/x-python",
   "name": "python",
   "nbconvert_exporter": "python",
   "pygments_lexer": "ipython3",
   "version": "3.6.1"
  }
 },
 "nbformat": 4,
 "nbformat_minor": 2
}
